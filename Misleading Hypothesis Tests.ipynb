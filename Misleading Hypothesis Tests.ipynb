{
 "cells": [
  {
   "cell_type": "markdown",
   "metadata": {},
   "source": [
    "# Misleading Hypothesis Tests"
   ]
  },
  {
   "cell_type": "markdown",
   "metadata": {},
   "source": [
    "In this notebook, we explore how classical hypothesis testing can mislead us by convincing us to reject a null hypothesis which is actually less likely than a plausible alternative!\n",
    "\n",
    "This notebook is based on the example and discussion at the end of Chapter 3 of MacKay's excellent book *Information Theory, Inference, and Learning Algorithms*, Cambridge University Press, 2003."
   ]
  },
  {
   "cell_type": "markdown",
   "metadata": {},
   "source": [
    "## Introduction: Hypothesis Tests"
   ]
  },
  {
   "cell_type": "markdown",
   "metadata": {},
   "source": [
    "Hypothesis testing is a classical statistical technique for testing whether or not a belief is true. The belief we will test in this notebook concerns the probability $p_H$ of getting heads when tossing a coin; for a fair coin, this probability is $0.5$, meaning that in a large number of tosses, roughly half the total tosses should come up heads. Suppose we have a coin which we suspect might be biased against heads, so $p_H<0.5$; we test this suspicion with a hypothesis test.\n",
    "\n",
    "The idea is to assume for the moment that the **null hypothesis** (the default belief) is true; in this case, the null hypothesis is that $p_H=0.5$ (i.e., the coin is fair). Then we toss the coin a large number of times, say 250, count how many heads we got, say 110, and determine the probability of getting this result *or a more extreme one* if the null hypothesis is true. Let's see this in practice:"
   ]
  },
  {
   "cell_type": "code",
   "execution_count": 2,
   "metadata": {},
   "outputs": [],
   "source": [
    "# import packages\n",
    "import numpy as np\n",
    "import scipy.stats as stats\n",
    "import matplotlib.pyplot as plt"
   ]
  },
  {
   "cell_type": "code",
   "execution_count": 11,
   "metadata": {},
   "outputs": [],
   "source": [
    "# create an instance of 250 tosses of a fair coin; n=250 is the number of tosses, p=0.5 is the probability of heads on each toss\n",
    "\n",
    "number_tosses = 250\n",
    "fair_coin = stats.binom(n=number_tosses, p=0.5)"
   ]
  },
  {
   "cell_type": "code",
   "execution_count": 6,
   "metadata": {},
   "outputs": [
    {
     "data": {
      "text/plain": [
       "0.033210575620024316"
      ]
     },
     "execution_count": 6,
     "metadata": {},
     "output_type": "execute_result"
    }
   ],
   "source": [
    "# find the probability of obtaining 110 or fewer heads in the 250 tosses with the cdf (cumulative density function)\n",
    "\n",
    "number_heads = 110\n",
    "fair_coin.cdf(number_heads)"
   ]
  },
  {
   "cell_type": "markdown",
   "metadata": {},
   "source": [
    "So the probability of getting 110 or fewer heads *if the coin is fair* is just over 3.3%; we call this number the **$p$-value.** This is very unlikely, so it seems that the null hypothesis (the belief that the coin is fair) does not provide a good explanation of the observed data and is therefore unlikely to be true.\n",
    "\n",
    "When conducting a hypothesis test, you should choose beforehand a **significance level** - a probability below which you consider the null hypothesis does not provide a good enough explanation, and so will be rejected. A typical significance level is 5%; since the $p$-value we found for 110 heads or fewer heads out of 250 tosses is 3.3%, and this is less than 5%, we reject the null hypothesis at the 5% level.\n",
    "\n",
    "So the $p$-value tells us how likely it would be to get data *at least as extreme* as what we observed *assuming the null hypothesis is true*, and if that is small enough, we reject the null hypothesis. The significance level is the cutoff point: if the $p$-value is less than the significance level, we reject the null hypothesis, but if the $p$-value is greater than the significance level, we might still be sceptical about the null hypothesis, but we haven't met the standard of evidence required to reject it.\n",
    "\n",
    "The higher the significance level, the easier it is to reject the null hypothesis, and so the more likely you are to \"accidentally\" reject it when it's actually true. On the other hand, the lower the significance level, the harder it is to reject the null hypothesis, and so the more likely you are to fail to reject it when it actually is false."
   ]
  },
  {
   "cell_type": "markdown",
   "metadata": {},
   "source": [
    "Why is the $p$-value not just the probability of getting the observed result if the null hypothesis is true, but the probability of getting a result at least as extreme as that observed? Because we can make individual results extremely unlikely just by doing lots of trials. If we toss a coin once, there are only two possible outcomes, whereas if we toss it 250 times, there are 251 possible outcomes (from 0 heads to 250 heads), so just because there are so many more outcomes, each one must be very unlikely. We illustrate this below by plotting the probability of the *most likely outcome* (equal numbers of heads and tails) for different numbers of tosses."
   ]
  },
  {
   "cell_type": "code",
   "execution_count": 14,
   "metadata": {},
   "outputs": [],
   "source": [
    "# create an array of even numbers of tosses from 2 to 500 inclusive\n",
    "num_tosses = np.arange(2, 500, 2)"
   ]
  },
  {
   "cell_type": "code",
   "execution_count": 15,
   "metadata": {},
   "outputs": [
    {
     "data": {
      "text/plain": [
       "Text(0.5, 1.0, 'Probability of having equal numbers of heads and tails in an even number of tosses of a fair coin')"
      ]
     },
     "execution_count": 15,
     "metadata": {},
     "output_type": "execute_result"
    },
    {
     "data": {
      "image/png": "[encoded data removed]",
      "text/plain": [
       "<Figure size 432x288 with 1 Axes>"
      ]
     },
     "metadata": {
      "needs_background": "light"
     },
     "output_type": "display_data"
    }
   ],
   "source": [
    "# plot the probability of having half the tosses be heads with a fair coin, as a function of the number of tosses\n",
    "plt.plot(num_tosses, stats.binom.pmf(num_tosses/2, n=num_tosses, p=0.5))\n",
    "plt.xlabel('Number of tosses')\n",
    "plt.ylabel('Probability of most likely outcome')\n",
    "plt.title('Probability of having equal numbers of heads and tails in an even number of tosses of a fair coin')"
   ]
  },
  {
   "cell_type": "markdown",
   "metadata": {},
   "source": [
    "We see that the probability that half the tosses will come up heads, although the most likely outcome, gets smaller as the number of tosses grows bigger, simply because with a large number of tosses there are so many other possible outcomes. If we toss a fair coin 250 times, though getting 125 heads and 125 tails is the most likely outcome, getting 124 heads and 126 tails - or the other way round - is almost as likely."
   ]
  },
  {
   "cell_type": "code",
   "execution_count": 16,
   "metadata": {},
   "outputs": [
    {
     "data": {
      "text/plain": [
       "0.03566464555334566"
      ]
     },
     "execution_count": 16,
     "metadata": {},
     "output_type": "execute_result"
    }
   ],
   "source": [
    "# calculate the probability of getting exactly 250 heads out of 500 tosses of a fair coin\n",
    "stats.binom.pmf(250, n=500, p=0.5)"
   ]
  },
  {
   "cell_type": "markdown",
   "metadata": {},
   "source": [
    "We see that for 500 tosses, the probability of getting exactly 250 heads is only 3.6%; it clearly makes no sense to reject the null hypothesis that the coin is fair after observing this, so this is why we must consider the observed result and anything that would be less likely (more extreme) when calculating a $p$-value.\n",
    "\n",
    "However, this leads to an objection to hypothesis testing: it can cause us to reject a hypothesis on the basis of it assigning a low probability to events that didn't actually happen!"
   ]
  },
  {
   "cell_type": "markdown",
   "metadata": {},
   "source": [
    "## Likelihood Ratios and Model Comparison"
   ]
  },
  {
   "cell_type": "markdown",
   "metadata": {},
   "source": [
    "Another objection to hypothesis testing is that it only considers probabilities assuming the null hypothesis, and does not consider whether the observed data would actually be much more likely under an alternative hypothesis. If the observed data are unlikely to occur under *any* reasonable hypothesis, then the fact that they're unlikely under the null hypothesis isn't good reason to reject the null hypothesis.\n",
    "\n",
    "After all, when we reject the null hypothesis, we then want to replace it with an **alternative hypothesis** - and this should be one that better explains the observations than the null hypothesis did!\n",
    "\n",
    "\n",
    "**TBC**"
   ]
  },
  {
   "cell_type": "code",
   "execution_count": null,
   "metadata": {},
   "outputs": [],
   "source": []
  }
 ],
 "metadata": {
  "kernelspec": {
   "display_name": "Python 3",
   "language": "python",
   "name": "python3"
  },
  "language_info": {
   "codemirror_mode": {
    "name": "ipython",
    "version": 3
   },
   "file_extension": ".py",
   "mimetype": "text/x-python",
   "name": "python",
   "nbconvert_exporter": "python",
   "pygments_lexer": "ipython3",
   "version": "3.7.3"
  }
 },
 "nbformat": 4,
 "nbformat_minor": 4
}
